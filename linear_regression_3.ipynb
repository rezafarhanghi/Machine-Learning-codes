{
 "cells": [
  {
   "cell_type": "markdown",
   "metadata": {},
   "source": [
    "# Derivatives\n",
    "\n",
    "we want to find minimum of MSE. so derivatives of MSE should be zero\n",
    "\n",
    "<img src=\"https://latex.codecogs.com/svg.latex?\\nabla MSE=[\\frac{\\partial MSE}{\\partial m}, \\frac{\\partial MSE}{\\partial b}]\"/>\n",
    "<img src=\"https://latex.codecogs.com/svg.latex?MSE=\\frac{1}{2N}\\sum_{i=1}^N(y_i-(mx_i+b))^2\"/>\n",
    "\n",
    "<img src=\"https://latex.codecogs.com/svg.latex?\\begin{cases}\\frac{\\partial y_i-mx_i-b}{\\partial m}=-x_i\\\\\\frac{\\partial y_i-mx_i-b}{\\partial b}=-1\\end{cases}\"/>\n",
    "\n",
    "<img src=\"https://latex.codecogs.com/svg.latex?\\begin{cases}\\frac{\\partial (y_i-mx_i-b)^2}{\\partial m}=2*(y_i-mx_i-b)*(-x_i)\\\\\\frac{\\partial (y_i-mx_i-b)^2}{\\partial b}=2*(y_i-mx_i-b)*(-1)\\end{cases}\"/>\n",
    "\n",
    "<img src=\"https://latex.codecogs.com/svg.latex?\\begin{cases}\\frac{\\partial MSE}{\\partial m}=\\frac{1}{N}\\sum_{i=1}^N-(y_i-mx_i-b)x_i\\\\\\frac{\\partial MSE}{\\partial b}=\\frac{1}{N}\\sum_{i=1}^N-(y_i-mx_i-b)\\end{cases}\"/>\n",
    "\n",
    "<img src=\"https://latex.codecogs.com/svg.latex?\\begin{cases}\\frac{\\partial MSE}{\\partial m}=-\\frac{1}{N}\\sum_{i=1}^N(y_i-h_i)x_i\\\\\\frac{\\partial MSE}{\\partial b}=-\\frac{1}{N}\\sum_{i=1}^N(y_i-h_i)\\end{cases}\"/>"
   ]
  },
  {
   "cell_type": "code",
   "execution_count": 1,
   "metadata": {},
   "outputs": [],
   "source": [
    "import numpy as np\n",
    "import matplotlib.pyplot as plt\n",
    "%matplotlib inline"
   ]
  },
  {
   "cell_type": "markdown",
   "metadata": {},
   "source": [
    "# Generating Dataset"
   ]
  },
  {
   "cell_type": "code",
   "execution_count": 5,
   "metadata": {},
   "outputs": [],
   "source": [
    "x = np.random.rand(100, 1) * 20\n",
    "y = 2.358 * x - 3.121\n",
    "y = y + np.random.normal(scale=3, size=y.shape)\n",
    "dataset = np.hstack((x, y))"
   ]
  },
  {
   "cell_type": "code",
   "execution_count": 6,
   "metadata": {},
   "outputs": [],
   "source": [
    "X = dataset[:, 0]\n",
    "y = dataset[:, 1]"
   ]
  },
  {
   "cell_type": "code",
   "execution_count": 7,
   "metadata": {},
   "outputs": [
    {
     "data": {
      "text/plain": [
       "[<matplotlib.lines.Line2D at 0x7f4b052ddb00>]"
      ]
     },
     "execution_count": 7,
     "metadata": {},
     "output_type": "execute_result"
    },
    {
     "data": {
      "image/png": "[encoded data removed]",
      "text/plain": [
       "<Figure size 432x288 with 1 Axes>"
      ]
     },
     "metadata": {},
     "output_type": "display_data"
    }
   ],
   "source": [
    "plt.plot(X, y, 'bo')"
   ]
  },
  {
   "cell_type": "markdown",
   "metadata": {},
   "source": [
    "# Building Linear Regression Object"
   ]
  },
  {
   "cell_type": "code",
   "execution_count": 8,
   "metadata": {},
   "outputs": [],
   "source": [
    "class Linear_Regression:\n",
    "    def __init__(self):\n",
    "        self.m = 0\n",
    "        self.b = 0\n",
    "        \n",
    "    def predict(self, x):\n",
    "        # mx + b\n",
    "        return self.m * x + self.b\n",
    "    \n",
    "    def get_MSE_error(self, x, y):\n",
    "        h = self.predict(x)\n",
    "        return np.mean((y - h) ** 2) / 2\n",
    "    \n",
    "    def get_MSE_derivatives(self, x, y):\n",
    "        h = self.predict(x)\n",
    "        return [-np.mean((y - h) * x), -np.mean(y - h)]\n",
    "    \n",
    "    def fit(self, x, y, alpha, itterations):\n",
    "        for i in range(itterations):\n",
    "            der_m, der_b = self.get_MSE_derivatives(x, y)\n",
    "            self.m = self.m - alpha * der_m\n",
    "            self.b = self.b - alpha * der_b"
   ]
  },
  {
   "cell_type": "code",
   "execution_count": 9,
   "metadata": {},
   "outputs": [
    {
     "name": "stdout",
     "output_type": "stream",
     "text": [
      "y = 2.0921532614869993 * x + -0.5920461160826932\n"
     ]
    }
   ],
   "source": [
    "model = Linear_Regression()\n",
    "model.fit(X, y, 0.01, 100)\n",
    "\n",
    "print('y = {} * x + {}'.format(model.m, model.b))"
   ]
  },
  {
   "cell_type": "code",
   "execution_count": 10,
   "metadata": {},
   "outputs": [
    {
     "data": {
      "text/plain": [
       "[<matplotlib.lines.Line2D at 0x7f4b0528dd30>]"
      ]
     },
     "execution_count": 10,
     "metadata": {},
     "output_type": "execute_result"
    },
    {
     "data": {
      "image/png": "[encoded data removed]",
      "text/plain": [
       "<Figure size 432x288 with 1 Axes>"
      ]
     },
     "metadata": {},
     "output_type": "display_data"
    }
   ],
   "source": [
    "x_line = np.array([dataset[:, 0].min() * 0.8, dataset[:, 0].max() * 1.2])\n",
    "y_line = model.m * x_line + model.b\n",
    "\n",
    "plt.plot(x_line, y_line, 'r--')\n",
    "plt.plot(X, y, 'bo')"
   ]
  }
 ],
 "metadata": {
  "kernelspec": {
   "display_name": "Python 3",
   "language": "python",
   "name": "python3"
  },
  "language_info": {
   "codemirror_mode": {
    "name": "ipython",
    "version": 3
   },
   "file_extension": ".py",
   "mimetype": "text/x-python",
   "name": "python",
   "nbconvert_exporter": "python",
   "pygments_lexer": "ipython3",
   "version": "3.6.9"
  }
 },
 "nbformat": 4,
 "nbformat_minor": 2
}
