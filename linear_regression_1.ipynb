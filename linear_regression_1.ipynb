{
 "cells": [
  {
   "cell_type": "code",
   "execution_count": 4,
   "metadata": {},
   "outputs": [],
   "source": [
    "import numpy as np\n",
    "import matplotlib.pyplot as plt\n",
    "%matplotlib inline"
   ]
  },
  {
   "cell_type": "markdown",
   "metadata": {},
   "source": [
    "# Generating Dataset"
   ]
  },
  {
   "cell_type": "code",
   "execution_count": 11,
   "metadata": {},
   "outputs": [],
   "source": [
    "X = np.random.rand(100) * 20\n",
    "y = 2.358 * X - 3.121\n",
    "y = y + np.random.normal(scale=3, size=y.shape)"
   ]
  },
  {
   "cell_type": "code",
   "execution_count": 12,
   "metadata": {},
   "outputs": [
    {
     "data": {
      "text/plain": [
       "[<matplotlib.lines.Line2D at 0x7f83b947b898>]"
      ]
     },
     "execution_count": 12,
     "metadata": {},
     "output_type": "execute_result"
    },
    {
     "data": {
      "image/png": "[encoded data removed]",
      "text/plain": [
       "<Figure size 432x288 with 1 Axes>"
      ]
     },
     "metadata": {},
     "output_type": "display_data"
    }
   ],
   "source": [
    "plt.plot(X, y, 'bo')"
   ]
  },
  {
   "cell_type": "markdown",
   "metadata": {},
   "source": [
    "# Line Equation\n",
    "\n",
    "intercept form\n",
    "<img src=\"https://latex.codecogs.com/svg.latex?\\frac{x}{a}+\\frac{y}{b}=1\"/>\n",
    "standard form\n",
    "<img src=\"https://latex.codecogs.com/svg.latex?ax+by=c\"/>\n",
    "point-slope Form\n",
    "<img src=\"https://latex.codecogs.com/svg.latex?y-y_1=m(x-x_1)\"/>\n",
    "slope-intercept Form\n",
    "<img src=\"https://latex.codecogs.com/svg.latex?y=mx+b\"/>"
   ]
  },
  {
   "cell_type": "code",
   "execution_count": 13,
   "metadata": {},
   "outputs": [
    {
     "data": {
      "text/plain": [
       "[<matplotlib.lines.Line2D at 0x7f83b949d940>]"
      ]
     },
     "execution_count": 13,
     "metadata": {},
     "output_type": "execute_result"
    },
    {
     "data": {
      "image/png": "[encoded data removed]",
      "text/plain": [
       "<Figure size 432x288 with 1 Axes>"
      ]
     },
     "metadata": {},
     "output_type": "display_data"
    }
   ],
   "source": [
    "# y = mx + b\n",
    "m = 2.3\n",
    "b = -2.9\n",
    " \n",
    "x_line = np.array([X.min() - 5, X.max() + 5])\n",
    "y_line = m * x_line + b\n",
    "\n",
    "plt.plot(x_line, y_line, 'r--')\n",
    "plt.plot(X,  y, 'bo')"
   ]
  },
  {
   "cell_type": "markdown",
   "metadata": {},
   "source": [
    "# Finding Best Line"
   ]
  },
  {
   "cell_type": "code",
   "execution_count": 14,
   "metadata": {
    "scrolled": true
   },
   "outputs": [
    {
     "name": "stdout",
     "output_type": "stream",
     "text": [
      "data point 0:\t actual : 19.14244901043645,\t predicted: 19.139098595309576\n",
      "data point 1:\t actual : 7.332938074990416,\t predicted: 10.21626616630743\n",
      "data point 2:\t actual : -3.0232460006445017,\t predicted: -1.8313476856434316\n",
      "data point 3:\t actual : 8.908942623403215,\t predicted: 8.933124205159752\n",
      "data point 4:\t actual : 41.33268941587844,\t predicted: 38.50433709931696\n",
      "data point 5:\t actual : 25.63476581854538,\t predicted: 27.80842529501143\n",
      "data point 6:\t actual : 13.213579698460531,\t predicted: 14.687974104913918\n",
      "data point 7:\t actual : 14.4503541014917,\t predicted: 15.074519031337646\n",
      "data point 8:\t actual : 14.160536006193745,\t predicted: 16.289698856370563\n",
      "data point 9:\t actual : 35.160655244897946,\t predicted: 29.846717286215206\n",
      "data point 10:\t actual : 27.725880379539568,\t predicted: 26.477125573699926\n",
      "data point 11:\t actual : 37.47014780372203,\t predicted: 37.1550128581778\n",
      "data point 12:\t actual : 36.98843453145512,\t predicted: 39.22676570454762\n",
      "data point 13:\t actual : 39.56372999581049,\t predicted: 32.91060568013281\n",
      "data point 14:\t actual : 15.309349807022178,\t predicted: 18.62982959508689\n",
      "data point 15:\t actual : 4.821572408599882,\t predicted: 3.7234132881178676\n",
      "data point 16:\t actual : 0.2838209570392647,\t predicted: 2.150156664299463\n",
      "data point 17:\t actual : 13.938872110263963,\t predicted: 17.79395075372538\n",
      "data point 18:\t actual : -1.1131112562520609,\t predicted: 3.797736647502323\n",
      "data point 19:\t actual : 26.721392161896176,\t predicted: 24.948491251739306\n",
      "data point 20:\t actual : 43.81919221777036,\t predicted: 40.87986626226304\n",
      "data point 21:\t actual : 8.384107394871434,\t predicted: 11.002179569331338\n",
      "data point 22:\t actual : 8.046920232729965,\t predicted: 10.830783687237277\n",
      "data point 23:\t actual : 21.887418800377855,\t predicted: 21.109842095609057\n",
      "data point 24:\t actual : 19.77523617790952,\t predicted: 21.890567191263283\n",
      "data point 25:\t actual : 10.65639303781198,\t predicted: 9.996933507212603\n",
      "data point 26:\t actual : 5.358322851213591,\t predicted: 6.007534527115423\n",
      "data point 27:\t actual : 24.86294375767779,\t predicted: 26.322880551711613\n",
      "data point 28:\t actual : 44.36416420522401,\t predicted: 42.41441994563691\n",
      "data point 29:\t actual : 26.69949290675533,\t predicted: 24.55702467951439\n",
      "data point 30:\t actual : 13.296371459557538,\t predicted: 13.792170617566617\n",
      "data point 31:\t actual : 39.648680217686305,\t predicted: 44.001347832933526\n",
      "data point 32:\t actual : 41.82705362095676,\t predicted: 39.042566026029625\n",
      "data point 33:\t actual : 5.011992353155013,\t predicted: 9.614306239242826\n",
      "data point 34:\t actual : 5.312302644583223,\t predicted: 4.263496622192719\n",
      "data point 35:\t actual : 13.827686946750093,\t predicted: 11.2398096283719\n",
      "data point 36:\t actual : 25.797144111057936,\t predicted: 23.536345999491093\n",
      "data point 37:\t actual : 34.2112759897691,\t predicted: 33.091146300415375\n",
      "data point 38:\t actual : -1.6958044551844642,\t predicted: 2.2326463289947394\n",
      "data point 39:\t actual : 14.6739738175246,\t predicted: 6.846599211762026\n",
      "data point 40:\t actual : 41.36316308114963,\t predicted: 40.12978827444503\n",
      "data point 41:\t actual : 8.182457940335535,\t predicted: 9.416350238317099\n",
      "data point 42:\t actual : 15.759771023022987,\t predicted: 19.777322337650798\n",
      "data point 43:\t actual : 5.751202470759885,\t predicted: 12.773925365405907\n",
      "data point 44:\t actual : 30.45089587540941,\t predicted: 36.223135837335505\n",
      "data point 45:\t actual : 4.67584840587682,\t predicted: 3.447034805975394\n",
      "data point 46:\t actual : 12.687901778263525,\t predicted: 11.669534519174048\n",
      "data point 47:\t actual : 24.91189406478126,\t predicted: 25.353007187131922\n",
      "data point 48:\t actual : 30.9451992794287,\t predicted: 30.25360680484842\n",
      "data point 49:\t actual : 27.631235010297896,\t predicted: 26.08611616830354\n",
      "data point 50:\t actual : 44.46081877780374,\t predicted: 40.43120913551059\n",
      "data point 51:\t actual : 33.01954518120722,\t predicted: 37.543424614175\n",
      "data point 52:\t actual : 27.569080187233972,\t predicted: 29.537628970807052\n",
      "data point 53:\t actual : 36.59953933909031,\t predicted: 32.24698474570604\n",
      "data point 54:\t actual : 19.190106771000053,\t predicted: 24.99782062547565\n",
      "data point 55:\t actual : 13.788701250803879,\t predicted: 14.733049696825125\n",
      "data point 56:\t actual : 43.4290375234503,\t predicted: 40.00999540026725\n",
      "data point 57:\t actual : 25.933399270243143,\t predicted: 28.732760457913592\n",
      "data point 58:\t actual : 21.941822719342987,\t predicted: 22.10875479021527\n",
      "data point 59:\t actual : 12.811130338939034,\t predicted: 11.85880138685744\n",
      "data point 60:\t actual : 31.747608247087186,\t predicted: 26.627383297187865\n",
      "data point 61:\t actual : 16.910829135980546,\t predicted: 18.600276181763586\n",
      "data point 62:\t actual : 41.33330220630297,\t predicted: 41.784599897547906\n",
      "data point 63:\t actual : 24.70526056833373,\t predicted: 24.109074605614797\n",
      "data point 64:\t actual : 18.38950285146137,\t predicted: 17.078825233169802\n",
      "data point 65:\t actual : 21.681534433549267,\t predicted: 18.639396536449134\n",
      "data point 66:\t actual : 30.59158443322721,\t predicted: 35.022944474769375\n",
      "data point 67:\t actual : 32.797273888239154,\t predicted: 32.27117345893574\n",
      "data point 68:\t actual : 13.671991349008758,\t predicted: 11.950320942733233\n",
      "data point 69:\t actual : -3.014468776819695,\t predicted: -0.24086640898090161\n",
      "data point 70:\t actual : 30.810531872385308,\t predicted: 26.905691251424905\n",
      "data point 71:\t actual : 20.040899875852908,\t predicted: 17.726179685956094\n",
      "data point 72:\t actual : 26.04691231614313,\t predicted: 26.537734815798487\n",
      "data point 73:\t actual : 27.046581899915314,\t predicted: 28.228903224913573\n",
      "data point 74:\t actual : 42.82571793777692,\t predicted: 43.82092230063349\n",
      "data point 75:\t actual : 23.370305206865165,\t predicted: 22.688211101279904\n",
      "data point 76:\t actual : 38.52428140171007,\t predicted: 41.021407002947576\n",
      "data point 77:\t actual : 44.49637380449806,\t predicted: 41.87525901113546\n",
      "data point 78:\t actual : 1.0807448919228988,\t predicted: -2.629648606876737\n",
      "data point 79:\t actual : 30.052120804432704,\t predicted: 33.356847048022175\n",
      "data point 80:\t actual : 34.29449350238016,\t predicted: 37.5994454376356\n",
      "data point 81:\t actual : 9.15761706995749,\t predicted: 8.30902888418498\n",
      "data point 82:\t actual : 19.63002999784811,\t predicted: 21.32443983580033\n",
      "data point 83:\t actual : 7.76171364558098,\t predicted: 5.297936042811841\n",
      "data point 84:\t actual : 33.063451823294805,\t predicted: 35.95208903968139\n",
      "data point 85:\t actual : 33.148974104038224,\t predicted: 33.549059501331975\n",
      "data point 86:\t actual : 25.512815621725313,\t predicted: 23.46099960407865\n",
      "data point 87:\t actual : 3.521998419314084,\t predicted: 0.23919392047878674\n",
      "data point 88:\t actual : 11.191017248711969,\t predicted: 9.64961878547806\n",
      "data point 89:\t actual : 11.455223696525788,\t predicted: 7.958383517915468\n",
      "data point 90:\t actual : 34.53933565306993,\t predicted: 35.7316582623592\n",
      "data point 91:\t actual : 13.49736984835125,\t predicted: 14.854445052898646\n",
      "data point 92:\t actual : 8.802895625660314,\t predicted: 9.157309454506867\n",
      "data point 93:\t actual : 34.7758763116326,\t predicted: 31.529059484221417\n",
      "data point 94:\t actual : 19.767644605829233,\t predicted: 16.111351532207877\n",
      "data point 95:\t actual : 32.069355101288274,\t predicted: 37.2188228187801\n",
      "data point 96:\t actual : 16.425799752259124,\t predicted: 12.520209930460412\n",
      "data point 97:\t actual : 40.809631620293835,\t predicted: 37.322355970209976\n",
      "data point 98:\t actual : 16.057519270458027,\t predicted: 17.893552880330493\n",
      "data point 99:\t actual : 23.296030695288415,\t predicted: 24.6378833988356\n"
     ]
    }
   ],
   "source": [
    "# y = mx + b\n",
    "m = 2.358\n",
    "b = -3.121\n",
    "\n",
    "h = m * X + b\n",
    "\n",
    "for i in range(X.shape[0]):\n",
    "    print('data point {}:\\t actual : {},\\t predicted: {}'.format(i, y[i], h[i]))"
   ]
  },
  {
   "cell_type": "code",
   "execution_count": 15,
   "metadata": {
    "scrolled": true
   },
   "outputs": [
    {
     "name": "stdout",
     "output_type": "stream",
     "text": [
      "data point 0:\terror: 0.2619582595377459\n",
      "data point 1:\terror: -3.979416603811474\n",
      "data point 2:\terror: -4.11709868457713\n",
      "data point 3:\terror: -1.315081299548229\n",
      "data point 4:\terror: 6.027059984735978\n",
      "data point 5:\terror: -0.5988434223464161\n",
      "data point 6:\terror: -1.8915722141042846\n",
      "data point 7:\terror: -0.9826561032051995\n",
      "data point 8:\terror: -2.3031610730009646\n",
      "data point 9:\terror: 7.198214798574618\n",
      "data point 10:\terror: 2.621448171142685\n",
      "data point 11:\terror: 3.30898337778666\n",
      "data point 12:\terror: 1.0700581917200722\n",
      "data point 13:\terror: 9.002571658123625\n",
      "data point 14:\terror: -3.1391909860964713\n",
      "data point 15:\terror: -0.983697555876681\n",
      "data point 16:\terror: -4.187049835411509\n",
      "data point 17:\terror: -3.8006959590535754\n",
      "data point 18:\terror: -6.981420541665397\n",
      "data point 19:\terror: 2.913511541252152\n",
      "data point 20:\terror: 6.498694963942498\n",
      "data point 21:\terror: -3.5948405010838993\n",
      "data point 22:\terror: -3.7866537174288784\n",
      "data point 23:\terror: 1.3353898812862042\n",
      "data point 24:\terror: -1.4389853583612862\n",
      "data point 25:\terror: -0.46992885125723305\n",
      "data point 26:\terror: -2.384284890190499\n",
      "data point 27:\terror: -0.11066146005894595\n",
      "data point 28:\terror: 5.742094700867\n",
      "data point 29:\terror: 3.223645002162975\n",
      "data point 30:\terror: -1.0489810574624947\n",
      "data point 31:\terror: -0.3193841020198249\n",
      "data point 32:\terror: 6.06491110524037\n",
      "data point 33:\terror: -5.789794109307095\n",
      "data point 34:\terror: -0.9510532690662412\n",
      "data point 35:\terror: 1.647186837868075\n",
      "data point 36:\terror: 3.187011795967951\n",
      "data point 37:\terror: 3.496987354980824\n",
      "data point 38:\terror: -6.23664103618085\n",
      "data point 39:\terror: 6.21969119516495\n",
      "data point 40:\terror: 4.67886429027174\n",
      "data point 41:\terror: -2.4514269098061945\n",
      "data point 42:\terror: -3.6620460572575855\n",
      "data point 43:\terror: -7.730498432892283\n",
      "data point 44:\terror: -2.9198724344595526\n",
      "data point 45:\terror: -0.8950038468588826\n",
      "data point 46:\terror: 0.1429191496171729\n",
      "data point 47:\terror: 0.7609125659416343\n",
      "data point 48:\terror: 2.6376447375725327\n",
      "data point 49:\terror: 2.8584477598283975\n",
      "data point 50:\terror: 7.520861919864302\n",
      "data point 51:\terror: -1.4710609376859125\n",
      "data point 52:\terror: -0.13119883804766275\n",
      "data point 53:\terror: 6.601248630264159\n",
      "data point 54:\terror: -4.659613861294815\n",
      "data point 55:\terror: -1.3546827159689165\n",
      "data point 56:\terror: 6.846344223817347\n",
      "data point 57:\terror: -1.0842092606420053\n",
      "data point 58:\terror: 0.5425396063529391\n",
      "data point 59:\terror: 0.10561601590473302\n",
      "data point 60:\terror: 6.515730980600448\n",
      "data point 61:\terror: -1.512645148806211\n",
      "data point 62:\terror: 3.245431216016364\n",
      "data point 63:\terror: 1.6093533540718177\n",
      "data point 64:\terror: 1.256487386516671\n",
      "data point 65:\terror: 3.2248791863489856\n",
      "data point 66:\terror: -1.7612098625907464\n",
      "data point 67:\terror: 2.7784668832045973\n",
      "data point 68:\terror: 0.8888522966480856\n",
      "data point 69:\terror: -5.457330177175164\n",
      "data point 70:\terror: 5.342600361422711\n",
      "data point 71:\terror: 2.3588136282226344\n",
      "data point 72:\terror: 0.8910727777220231\n",
      "data point 73:\terror: 0.4563331934576631\n",
      "data point 74:\terror: 3.010686300259117\n",
      "data point 75:\terror: 1.4795409140068934\n",
      "data point 76:\terror: 1.083732629065814\n",
      "data point 77:\terror: 6.331607891745335\n",
      "data point 78:\terror: 0.6639922259998596\n",
      "data point 79:\terror: -0.8875289394368266\n",
      "data point 80:\terror: -0.24362815804019533\n",
      "data point 81:\terror: -0.5370639174767593\n",
      "data point 82:\terror: -1.104015664408319\n",
      "data point 83:\terror: 0.6209706067244571\n",
      "data point 84:\terror: -0.07742098389891083\n",
      "data point 85:\terror: 2.046294289507287\n",
      "data point 86:\terror: 2.966590342608562\n",
      "data point 87:\terror: 0.6719611669995915\n",
      "data point 88:\terror: 0.35927951717841466\n",
      "data point 89:\terror: 2.057951840787478\n",
      "data point 90:\terror: 1.5854270335964742\n",
      "data point 91:\terror: -1.748978797025039\n",
      "data point 92:\terror: -1.6112769396550952\n",
      "data point 93:\terror: 5.386512881419357\n",
      "data point 94:\terror: 3.4552175216834513\n",
      "data point 95:\terror: -2.145931428635471\n",
      "data point 96:\terror: 3.1592942980942276\n",
      "data point 97:\terror: 6.5065307125669705\n",
      "data point 98:\terror: -1.7665289740970955\n",
      "data point 99:\terror: -0.24839966843982708\n"
     ]
    }
   ],
   "source": [
    "# y = mx + b\n",
    "m = 2\n",
    "b = -0\n",
    "\n",
    "h = m * X + b\n",
    "\n",
    "for i in range(X.shape[0]):\n",
    "    print('data point {}:\\terror: {}'.format(i, y[i] - h[i]))"
   ]
  },
  {
   "cell_type": "code",
   "execution_count": 16,
   "metadata": {
    "scrolled": true
   },
   "outputs": [
    {
     "name": "stdout",
     "output_type": "stream",
     "text": [
      "data point 0:\terror: 1.5925386488155369\n",
      "data point 1:\terror: 8.8769232990675\n",
      "data point 2:\terror: 9.716304209392472\n",
      "data point 3:\terror: 0.09927622532500084\n",
      "data point 4:\terror: 49.3795720290776\n",
      "data point 5:\terror: 0.16092659979473592\n",
      "data point 6:\terror: 0.7949010129628162\n",
      "data point 7:\terror: 0.00030081075602869206\n",
      "data point 8:\terror: 1.6982287821850255\n",
      "data point 9:\terror: 67.21072588356786\n",
      "data point 10:\terror: 13.114886856272697\n",
      "data point 11:\terror: 18.567337750041734\n",
      "data point 12:\terror: 4.285140917107375\n",
      "data point 13:\terror: 100.05143977589799\n",
      "data point 14:\terror: 4.576138074996393\n",
      "data point 15:\terror: 0.0002657696843939398\n",
      "data point 16:\terror: 10.157286653396529\n",
      "data point 17:\terror: 7.843897855059026\n",
      "data point 18:\terror: 35.77739169625677\n",
      "data point 19:\terror: 15.315572583513795\n",
      "data point 20:\terror: 56.23042616225658\n",
      "data point 21:\terror: 6.733197226065341\n",
      "data point 22:\terror: 7.765438940860187\n",
      "data point 23:\terror: 5.454045897613991\n",
      "data point 24:\terror: 0.19270814485558682\n",
      "data point 25:\terror: 0.28097542272947656\n",
      "data point 26:\terror: 1.9162446572097223\n",
      "data point 27:\terror: 0.7909230386244858\n",
      "data point 28:\terror: 45.45584095545888\n",
      "data point 29:\terror: 17.839177104296276\n",
      "data point 30:\terror: 0.0023991439901442082\n",
      "data point 31:\terror: 0.46323800058336007\n",
      "data point 32:\terror: 49.9129689249487\n",
      "data point 33:\terror: 22.942127609552944\n",
      "data point 34:\terror: 0.002395782469101779\n",
      "data point 35:\terror: 7.007598154581978\n",
      "data point 36:\terror: 17.53106777957477\n",
      "data point 37:\terror: 20.22289527085743\n",
      "data point 38:\terror: 27.422409341813246\n",
      "data point 39:\terror: 52.1239409535423\n",
      "data point 40:\terror: 32.24949962732355\n",
      "data point 41:\terror: 2.106640074509559\n",
      "data point 42:\terror: 7.086489210960656\n",
      "data point 43:\terror: 45.29960915516548\n",
      "data point 44:\terror: 3.685910164597649\n",
      "data point 45:\terror: 0.011024192174432984\n",
      "data point 46:\terror: 1.3062641825616417\n",
      "data point 47:\terror: 3.1008130648911503\n",
      "data point 48:\terror: 13.23245923678914\n",
      "data point 49:\terror: 14.887619115324778\n",
      "data point 50:\terror: 72.60508785739356\n",
      "data point 51:\terror: 0.22189840701353114\n",
      "data point 52:\terror: 0.7548154590097313\n",
      "data point 53:\terror: 57.77898073909275\n",
      "data point 54:\terror: 13.392773613781147\n",
      "data point 55:\terror: 0.1257998290070871\n",
      "data point 56:\terror: 61.56511767863185\n",
      "data point 57:\terror: 0.007091199577873181\n",
      "data point 58:\terror: 2.3794284371674803\n",
      "data point 59:\terror: 1.222386774625055\n",
      "data point 60:\terror: 56.48621217275738\n",
      "data point 61:\terror: 0.2628050485945421\n",
      "data point 62:\terror: 18.023686209926183\n",
      "data point 63:\terror: 6.808724926405845\n",
      "data point 64:\terror: 5.091735325508837\n",
      "data point 65:\terror: 17.849604139244867\n",
      "data point 66:\terror: 0.5794404549054231\n",
      "data point 67:\terror: 14.276811987473865\n",
      "data point 68:\terror: 3.5677629985527477\n",
      "data point 69:\terror: 19.86779230835638\n",
      "data point 70:\terror: 40.228579344719506\n",
      "data point 71:\terror: 11.281628989134097\n",
      "data point 72:\terror: 3.5761562506412883\n",
      "data point 73:\terror: 2.1209063703665954\n",
      "data point 74:\terror: 16.085604599086164\n",
      "data point 75:\terror: 6.14812314423414\n",
      "data point 76:\terror: 4.341941669433529\n",
      "data point 77:\terror: 53.75247427830248\n",
      "data point 78:\terror: 2.768870128187968\n",
      "data point 79:\terror: 0.012649739464205008\n",
      "data point 80:\terror: 0.5720983633096677\n",
      "data point 81:\terror: 0.21430981650196473\n",
      "data point 82:\terror: 0.010819258442304039\n",
      "data point 83:\terror: 2.627545707864655\n",
      "data point 84:\terror: 0.8511520409500537\n",
      "data point 85:\terror: 9.279908898284708\n",
      "data point 86:\terror: 15.73383894607551\n",
      "data point 87:\terror: 2.795454143954636\n",
      "data point 88:\terror: 1.847640805820784\n",
      "data point 89:\terror: 9.351069460575525\n",
      "data point 90:\terror: 6.684432946051464\n",
      "data point 91:\terror: 0.5609692383930746\n",
      "data point 92:\terror: 0.37365949695409895\n",
      "data point 93:\terror: 40.78754678453537\n",
      "data point 94:\terror: 19.848963165515233\n",
      "data point 95:\terror: 1.313158839134532\n",
      "data point 96:\terror: 17.299729058159155\n",
      "data point 97:\terror: 56.34800333871119\n",
      "data point 98:\terror: 0.5875666681303457\n",
      "data point 99:\terror: 0.5649030584013619\n"
     ]
    }
   ],
   "source": [
    "# y = mx + b\n",
    "m = 2\n",
    "b = -1\n",
    "\n",
    "h = m * X + b\n",
    "\n",
    "for i in range(X.shape[0]):\n",
    "    print('data point {}:\\terror: {}'.format(i, (y[i] - h[i]) ** 2))"
   ]
  },
  {
   "cell_type": "code",
   "execution_count": 18,
   "metadata": {},
   "outputs": [
    {
     "name": "stdout",
     "output_type": "stream",
     "text": [
      "total error: 95.09412243907134\n"
     ]
    }
   ],
   "source": [
    "# y = mx + b\n",
    "m = 1\n",
    "b = 0\n",
    "\n",
    "h = m * X + b\n",
    "\n",
    "print('total error: {}'.format(np.mean((y - h) ** 2) / 2))"
   ]
  },
  {
   "cell_type": "markdown",
   "metadata": {},
   "source": [
    "<img src=\"https://latex.codecogs.com/svg.latex?MSE=\\frac{1}{2N}\\sum_{i=1}^N(y_i-\\hat{y}_i)^2\"/>"
   ]
  },
  {
   "cell_type": "code",
   "execution_count": 19,
   "metadata": {},
   "outputs": [],
   "source": [
    "def MSE(actual, predicted):\n",
    "    return np.mean((actual - predicted) ** 2) / 2"
   ]
  },
  {
   "cell_type": "code",
   "execution_count": 20,
   "metadata": {},
   "outputs": [
    {
     "name": "stdout",
     "output_type": "stream",
     "text": [
      "best line fit: 2.3499999999999925 * x + -3.0 and cost is 4.229166921239126\n"
     ]
    }
   ],
   "source": [
    "min_cost = np.inf\n",
    "best_m = None\n",
    "best_b = None\n",
    "\n",
    "for m in np.arange(2, 3, 0.01):\n",
    "    for b in np.arange(-3, -2, 0.01):\n",
    "        h = m * X + b\n",
    "        cost = MSE(y, h)\n",
    "        if cost < min_cost:\n",
    "            min_cost = cost\n",
    "            best_m = m\n",
    "            best_b = b\n",
    "print('best line fit: {} * x + {} and cost is {}'.format(best_m, best_b, min_cost))"
   ]
  },
  {
   "cell_type": "code",
   "execution_count": 21,
   "metadata": {},
   "outputs": [
    {
     "data": {
      "text/plain": [
       "<matplotlib.colorbar.Colorbar at 0x7f83b92f7630>"
      ]
     },
     "execution_count": 21,
     "metadata": {},
     "output_type": "execute_result"
    },
    {
     "data": {
      "image/png": "[encoded data removed]",
      "text/plain": [
       "<Figure size 432x288 with 2 Axes>"
      ]
     },
     "metadata": {},
     "output_type": "display_data"
    }
   ],
   "source": [
    "MSE_cost_matrix = np.zeros((200, 200))\n",
    "\n",
    "all_m_values = np.arange(-10, 10, 0.1)\n",
    "all_b_values = np.arange(-10, 10, 0.1)\n",
    "\n",
    "for i, m in enumerate(all_m_values):\n",
    "    for j, b in enumerate(all_b_values):\n",
    "        h = m * X + b\n",
    "        MSE_cost_matrix[i, j] = MSE(y, h)\n",
    "        \n",
    "plt.pcolormesh(all_m_values, all_b_values, MSE_cost_matrix)\n",
    "plt.ylabel('b')\n",
    "plt.xlabel('m')\n",
    "plt.colorbar()"
   ]
  },
  {
   "cell_type": "code",
   "execution_count": null,
   "metadata": {},
   "outputs": [],
   "source": []
  }
 ],
 "metadata": {
  "kernelspec": {
   "display_name": "Python 3",
   "language": "python",
   "name": "python3"
  },
  "language_info": {
   "codemirror_mode": {
    "name": "ipython",
    "version": 3
   },
   "file_extension": ".py",
   "mimetype": "text/x-python",
   "name": "python",
   "nbconvert_exporter": "python",
   "pygments_lexer": "ipython3",
   "version": "3.6.9"
  }
 },
 "nbformat": 4,
 "nbformat_minor": 2
}
