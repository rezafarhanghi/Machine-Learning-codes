{
 "cells": [
  {
   "cell_type": "code",
   "execution_count": null,
   "metadata": {},
   "outputs": [],
   "source": [
    "class Logistic_Regression:\n",
    "    def __init__(self, features):\n",
    "        self.w = np.zeros((1, features + 1))\n",
    "        \n",
    "    def sigmoid(self, z):\n",
    "        return 1 / (1 + np.exp(-z))\n",
    "        \n",
    "    def call(self, X):\n",
    "        #      x.shape = (N, f)\n",
    "        #      w.shape = (1, f)\n",
    "        # output.shape = (N, 1)\n",
    "        # ((1, f) * (f, N)).T = (N, 1) => (w * x.T).T\n",
    "        # (N, f) * (f, 1) = (N, 1) => x * w.T\n",
    "        \n",
    "        inner_X = np.hstack(\n",
    "            (\n",
    "                X, \n",
    "                np.ones((X.shape[0], 1))\n",
    "            )\n",
    "        )\n",
    "        z = np.dot(inner_X, self.w.T)\n",
    "        return self.sigmoid(z)\n",
    "        \n",
    "    def get_CE_error(self, X, y):\n",
    "        h = self.call(X)\n",
    "        return np.mean(-y * np.log(h) - (1 - y) * np.log(1 - h))\n",
    "    \n",
    "    def get_CE_derivatives(self, X, y):\n",
    "        inner_X = np.hstack((X, np.ones((X.shape[0], 1))))\n",
    "        h = np.dot(inner_X, self.w.T)\n",
    "        # (y - h).shape = (N, 1)\n",
    "        #       X.shape = (N, f)\n",
    "        #  output.shape = (1, f)\n",
    "        # (1, N) * (N, f) => (1, f) *faster\n",
    "        # ((f, N) * (N, 1)).T => (1, f)\n",
    "        return -np.dot((y - h).T, inner_X) / y.shape[0]\n",
    "    \n",
    "    def fit(self, X, y, alpha, itterations):\n",
    "        for i in range(itterations):\n",
    "            der = self.get_MSE_derivatives(X, y)\n",
    "            self.w = self.w - alpha * der"
   ]
  },
  {
   "cell_type": "code",
   "execution_count": 1,
   "metadata": {},
   "outputs": [],
   "source": [
    "import pandas as pd\n",
    "import matplotlib.pyplot as plt\n",
    "import numpy as np\n",
    "%matplotlib inline\n",
    "\n",
    "from sklearn.linear_model import LogisticRegression"
   ]
  },
  {
   "cell_type": "code",
   "execution_count": 10,
   "metadata": {},
   "outputs": [
    {
     "data": {
      "text/html": [
       "<div>\n",
       "<style scoped>\n",
       "    .dataframe tbody tr th:only-of-type {\n",
       "        vertical-align: middle;\n",
       "    }\n",
       "\n",
       "    .dataframe tbody tr th {\n",
       "        vertical-align: top;\n",
       "    }\n",
       "\n",
       "    .dataframe thead th {\n",
       "        text-align: right;\n",
       "    }\n",
       "</style>\n",
       "<table border=\"1\" class=\"dataframe\">\n",
       "  <thead>\n",
       "    <tr style=\"text-align: right;\">\n",
       "      <th></th>\n",
       "      <th>Gender</th>\n",
       "      <th>Age</th>\n",
       "      <th>EstimatedSalary</th>\n",
       "      <th>Purchased</th>\n",
       "    </tr>\n",
       "  </thead>\n",
       "  <tbody>\n",
       "    <tr>\n",
       "      <th>0</th>\n",
       "      <td>Male</td>\n",
       "      <td>19</td>\n",
       "      <td>19000</td>\n",
       "      <td>0</td>\n",
       "    </tr>\n",
       "    <tr>\n",
       "      <th>1</th>\n",
       "      <td>Male</td>\n",
       "      <td>35</td>\n",
       "      <td>20000</td>\n",
       "      <td>0</td>\n",
       "    </tr>\n",
       "    <tr>\n",
       "      <th>2</th>\n",
       "      <td>Female</td>\n",
       "      <td>26</td>\n",
       "      <td>43000</td>\n",
       "      <td>0</td>\n",
       "    </tr>\n",
       "    <tr>\n",
       "      <th>3</th>\n",
       "      <td>Female</td>\n",
       "      <td>27</td>\n",
       "      <td>57000</td>\n",
       "      <td>0</td>\n",
       "    </tr>\n",
       "    <tr>\n",
       "      <th>4</th>\n",
       "      <td>Male</td>\n",
       "      <td>19</td>\n",
       "      <td>76000</td>\n",
       "      <td>0</td>\n",
       "    </tr>\n",
       "  </tbody>\n",
       "</table>\n",
       "</div>"
      ],
      "text/plain": [
       "   Gender  Age  EstimatedSalary  Purchased\n",
       "0    Male   19            19000          0\n",
       "1    Male   35            20000          0\n",
       "2  Female   26            43000          0\n",
       "3  Female   27            57000          0\n",
       "4    Male   19            76000          0"
      ]
     },
     "execution_count": 10,
     "metadata": {},
     "output_type": "execute_result"
    }
   ],
   "source": [
    "df = pd.read_csv('../../Datasets/Social_Network_Ads.csv')\n",
    "\n",
    "df.drop('User ID', axis=1, inplace=True)\n",
    "df.head(5)"
   ]
  },
  {
   "cell_type": "code",
   "execution_count": 40,
   "metadata": {},
   "outputs": [
    {
     "data": {
      "text/plain": [
       "0    257\n",
       "1    143\n",
       "Name: Purchased, dtype: int64"
      ]
     },
     "execution_count": 40,
     "metadata": {},
     "output_type": "execute_result"
    }
   ],
   "source": [
    "df.Purchased.value_counts()"
   ]
  },
  {
   "cell_type": "code",
   "execution_count": 11,
   "metadata": {},
   "outputs": [
    {
     "data": {
      "text/html": [
       "<div>\n",
       "<style scoped>\n",
       "    .dataframe tbody tr th:only-of-type {\n",
       "        vertical-align: middle;\n",
       "    }\n",
       "\n",
       "    .dataframe tbody tr th {\n",
       "        vertical-align: top;\n",
       "    }\n",
       "\n",
       "    .dataframe thead th {\n",
       "        text-align: right;\n",
       "    }\n",
       "</style>\n",
       "<table border=\"1\" class=\"dataframe\">\n",
       "  <thead>\n",
       "    <tr style=\"text-align: right;\">\n",
       "      <th></th>\n",
       "      <th>Age</th>\n",
       "      <th>EstimatedSalary</th>\n",
       "      <th>Purchased</th>\n",
       "    </tr>\n",
       "  </thead>\n",
       "  <tbody>\n",
       "    <tr>\n",
       "      <th>count</th>\n",
       "      <td>400.000000</td>\n",
       "      <td>400.000000</td>\n",
       "      <td>400.000000</td>\n",
       "    </tr>\n",
       "    <tr>\n",
       "      <th>mean</th>\n",
       "      <td>37.655000</td>\n",
       "      <td>69742.500000</td>\n",
       "      <td>0.357500</td>\n",
       "    </tr>\n",
       "    <tr>\n",
       "      <th>std</th>\n",
       "      <td>10.482877</td>\n",
       "      <td>34096.960282</td>\n",
       "      <td>0.479864</td>\n",
       "    </tr>\n",
       "    <tr>\n",
       "      <th>min</th>\n",
       "      <td>18.000000</td>\n",
       "      <td>15000.000000</td>\n",
       "      <td>0.000000</td>\n",
       "    </tr>\n",
       "    <tr>\n",
       "      <th>25%</th>\n",
       "      <td>29.750000</td>\n",
       "      <td>43000.000000</td>\n",
       "      <td>0.000000</td>\n",
       "    </tr>\n",
       "    <tr>\n",
       "      <th>50%</th>\n",
       "      <td>37.000000</td>\n",
       "      <td>70000.000000</td>\n",
       "      <td>0.000000</td>\n",
       "    </tr>\n",
       "    <tr>\n",
       "      <th>75%</th>\n",
       "      <td>46.000000</td>\n",
       "      <td>88000.000000</td>\n",
       "      <td>1.000000</td>\n",
       "    </tr>\n",
       "    <tr>\n",
       "      <th>max</th>\n",
       "      <td>60.000000</td>\n",
       "      <td>150000.000000</td>\n",
       "      <td>1.000000</td>\n",
       "    </tr>\n",
       "  </tbody>\n",
       "</table>\n",
       "</div>"
      ],
      "text/plain": [
       "              Age  EstimatedSalary   Purchased\n",
       "count  400.000000       400.000000  400.000000\n",
       "mean    37.655000     69742.500000    0.357500\n",
       "std     10.482877     34096.960282    0.479864\n",
       "min     18.000000     15000.000000    0.000000\n",
       "25%     29.750000     43000.000000    0.000000\n",
       "50%     37.000000     70000.000000    0.000000\n",
       "75%     46.000000     88000.000000    1.000000\n",
       "max     60.000000    150000.000000    1.000000"
      ]
     },
     "execution_count": 11,
     "metadata": {},
     "output_type": "execute_result"
    }
   ],
   "source": [
    "df.describe()"
   ]
  },
  {
   "cell_type": "code",
   "execution_count": 33,
   "metadata": {},
   "outputs": [
    {
     "data": {
      "text/plain": [
       "7      32\n",
       "16     47\n",
       "17     45\n",
       "18     46\n",
       "19     48\n",
       "       ..\n",
       "393    60\n",
       "395    46\n",
       "396    51\n",
       "397    50\n",
       "399    49\n",
       "Name: Age, Length: 143, dtype: int64"
      ]
     },
     "execution_count": 33,
     "metadata": {},
     "output_type": "execute_result"
    }
   ],
   "source": [
    "df[df['Purchased'] == 1]['Age']"
   ]
  },
  {
   "cell_type": "code",
   "execution_count": 39,
   "metadata": {},
   "outputs": [
    {
     "data": {
      "text/plain": [
       "<matplotlib.legend.Legend at 0x7f156fac9cc0>"
      ]
     },
     "execution_count": 39,
     "metadata": {},
     "output_type": "execute_result"
    },
    {
     "data": {
      "image/png": "[encoded data removed]",
      "text/plain": [
       "<Figure size 432x288 with 1 Axes>"
      ]
     },
     "metadata": {},
     "output_type": "display_data"
    }
   ],
   "source": [
    "plt.plot(df[df['Purchased'] == 1]['Age'],\n",
    "         df[df['Purchased'] == 1]['EstimatedSalary'], 'bo', label='1')\n",
    "\n",
    "plt.plot(df[df['Purchased'] == 0]['Age'],\n",
    "         df[df['Purchased'] == 0]['EstimatedSalary'], 'rx', label='0')\n",
    "\n",
    "plt.xlabel('Age')\n",
    "plt.ylabel('EstimatedSalary')\n",
    "plt.legend()"
   ]
  },
  {
   "cell_type": "code",
   "execution_count": 78,
   "metadata": {},
   "outputs": [],
   "source": [
    "X = df.to_numpy()"
   ]
  },
  {
   "cell_type": "code",
   "execution_count": 79,
   "metadata": {},
   "outputs": [],
   "source": [
    "y = X[:, -1]\n",
    "X = X[:, :-1]"
   ]
  },
  {
   "cell_type": "code",
   "execution_count": 68,
   "metadata": {},
   "outputs": [
    {
     "data": {
      "text/plain": [
       "array([[    1,    19, 19000],\n",
       "       [    1,    35, 20000],\n",
       "       [    0,    26, 43000],\n",
       "       ...,\n",
       "       [    0,    50, 20000],\n",
       "       [    1,    36, 33000],\n",
       "       [    0,    49, 36000]])"
      ]
     },
     "execution_count": 68,
     "metadata": {},
     "output_type": "execute_result"
    }
   ],
   "source": [
    "X"
   ]
  },
  {
   "cell_type": "code",
   "execution_count": 70,
   "metadata": {},
   "outputs": [
    {
     "data": {
      "text/plain": [
       "array([4.90000e-01, 3.76550e+01, 6.97425e+04])"
      ]
     },
     "execution_count": 70,
     "metadata": {},
     "output_type": "execute_result"
    }
   ],
   "source": [
    "X.mean(axis=0)"
   ]
  },
  {
   "cell_type": "code",
   "execution_count": 80,
   "metadata": {},
   "outputs": [],
   "source": [
    "X = (X - X.mean(axis=0)) / X.std(axis=0)"
   ]
  },
  {
   "cell_type": "code",
   "execution_count": 93,
   "metadata": {},
   "outputs": [],
   "source": [
    "clf = LogisticRegression(verbose=1)"
   ]
  },
  {
   "cell_type": "code",
   "execution_count": 95,
   "metadata": {},
   "outputs": [
    {
     "name": "stdout",
     "output_type": "stream",
     "text": [
      "[LibLinear]"
     ]
    },
    {
     "name": "stderr",
     "output_type": "stream",
     "text": [
      "/home/mqod/.local/lib/python3.6/site-packages/sklearn/linear_model/logistic.py:432: FutureWarning: Default solver will be changed to 'lbfgs' in 0.22. Specify a solver to silence this warning.\n",
      "  FutureWarning)\n"
     ]
    },
    {
     "data": {
      "text/plain": [
       "LogisticRegression(C=1.0, class_weight=None, dual=False, fit_intercept=True,\n",
       "                   intercept_scaling=1, l1_ratio=None, max_iter=100,\n",
       "                   multi_class='warn', n_jobs=None, penalty='l2',\n",
       "                   random_state=None, solver='warn', tol=0.0001, verbose=1,\n",
       "                   warm_start=False)"
      ]
     },
     "execution_count": 95,
     "metadata": {},
     "output_type": "execute_result"
    }
   ],
   "source": [
    "clf.fit(X, y)"
   ]
  },
  {
   "cell_type": "code",
   "execution_count": 96,
   "metadata": {},
   "outputs": [
    {
     "data": {
      "text/plain": [
       "0.82"
      ]
     },
     "execution_count": 96,
     "metadata": {},
     "output_type": "execute_result"
    }
   ],
   "source": [
    "clf.score(X, y)"
   ]
  },
  {
   "cell_type": "code",
   "execution_count": 97,
   "metadata": {},
   "outputs": [
    {
     "name": "stdout",
     "output_type": "stream",
     "text": [
      "[0 0 0 0 0 0 0 1 0 0 0 0 0 0 0 0 0 0 0 0 0 0 0 0 0 0 0 0 0 0 0 1 0 0 0 0 0\n",
      " 0 0 0 0 0 1 0 0 0 0 0 1 0 0 0 0 0 0 0 0 0 0 1 0 0 0 1 1 0 0 0 0 0 0 0 0 1\n",
      " 0 1 0 0 0 0 0 0 0 0 0 1 0 0 0 0 0 0 0 0 0 0 0 0 0 0 0 0 0 1 0 0 0 0 0 0 0\n",
      " 0 0 0 0 0 0 0 0 0 0 0 0 0 0 0 0 0 0 0 0 0 0 0 0 0 0 0 0 0 0 0 0 0 0 0 0 0\n",
      " 0 0 0 0 0 0 0 0 0 0 0 1 0 0 0 0 0 0 0 0 1 0 0 1 0 0 0 0 0 0 0 0 0 0 1 0 0\n",
      " 0 0 0 0 0 0 0 0 0 0 0 0 0 0 0 0 1 1 0 1 0 1 1 1 0 1 1 1 0 0 1 0 0 1 1 0 0\n",
      " 1 1 0 0 1 1 0 0 1 0 1 1 1 1 0 0 1 1 1 0 1 1 0 1 0 1 0 0 0 0 1 1 0 1 0 0 1\n",
      " 1 0 1 1 0 1 1 0 0 1 0 1 1 1 1 0 1 0 1 0 0 1 0 0 0 1 0 0 1 0 0 1 1 0 0 0 0\n",
      " 0 1 1 1 0 1 1 0 0 0 1 1 1 0 0 1 0 1 0 0 1 0 0 0 1 1 0 0 1 0 0 0 1 1 0 1 0\n",
      " 0 1 0 1 0 0 1 1 0 0 0 1 0 1 1 0 0 1 0 1 0 0 0 1 0 0 0 1 0 0 0 1 0 1 1 0 0\n",
      " 1 1 0 1 0 0 0 0 0 0 0 0 1 0 0 1 0 0 0 0 0 0 0 1 0 0 0 0 0 0]\n"
     ]
    },
    {
     "data": {
      "text/plain": [
       "0.82"
      ]
     },
     "execution_count": 97,
     "metadata": {},
     "output_type": "execute_result"
    }
   ],
   "source": [
    "h = clf.predict(X)\n",
    "print(h)\n",
    "np.mean(h == y)"
   ]
  },
  {
   "cell_type": "code",
   "execution_count": 98,
   "metadata": {},
   "outputs": [
    {
     "data": {
      "text/plain": [
       "array([[0.97494038, 0.02505962],\n",
       "       [0.91588613, 0.08411387],\n",
       "       [0.91916835, 0.08083165],\n",
       "       [0.87743002, 0.12256998],\n",
       "       [0.89031453, 0.10968547],\n",
       "       [0.87716992, 0.12283008],\n",
       "       [0.77311348, 0.22688652],\n",
       "       [0.27329359, 0.72670641],\n",
       "       [0.94315958, 0.05684042],\n",
       "       [0.754991  , 0.245009  ],\n",
       "       [0.80436792, 0.19563208],\n",
       "       [0.89877203, 0.10122797],\n",
       "       [0.85083288, 0.14916712],\n",
       "       [0.93561453, 0.06438547],\n",
       "       [0.88151573, 0.11848427],\n",
       "       [0.76946484, 0.23053516],\n",
       "       [0.78848586, 0.21151414],\n",
       "       [0.80908359, 0.19091641],\n",
       "       [0.78771547, 0.21228453],\n",
       "       [0.75080302, 0.24919698],\n",
       "       [0.82549686, 0.17450314],\n",
       "       [0.65269074, 0.34730926],\n",
       "       [0.68955697, 0.31044303],\n",
       "       [0.82185482, 0.17814518],\n",
       "       [0.80979515, 0.19020485],\n",
       "       [0.81050469, 0.18949531],\n",
       "       [0.74604001, 0.25395999],\n",
       "       [0.76010853, 0.23989147],\n",
       "       [0.90225821, 0.09774179],\n",
       "       [0.94014925, 0.05985075],\n",
       "       [0.77109741, 0.22890259],\n",
       "       [0.44245402, 0.55754598],\n",
       "       [0.97242236, 0.02757764],\n",
       "       [0.90446653, 0.09553347],\n",
       "       [0.74764461, 0.25235539],\n",
       "       [0.89982326, 0.10017674],\n",
       "       [0.9087468 , 0.0912532 ],\n",
       "       [0.87865326, 0.12134674],\n",
       "       [0.8366859 , 0.1633141 ],\n",
       "       [0.93602562, 0.06397438],\n",
       "       [0.95555657, 0.04444343],\n",
       "       [0.84105054, 0.15894946],\n",
       "       [0.49206185, 0.50793815],\n",
       "       [0.94856033, 0.05143967],\n",
       "       [0.75916497, 0.24083503],\n",
       "       [0.96518086, 0.03481914],\n",
       "       [0.82408342, 0.17591658],\n",
       "       [0.88602815, 0.11397185],\n",
       "       [0.40498188, 0.59501812],\n",
       "       [0.6850396 , 0.3149604 ],\n",
       "       [0.94731361, 0.05268639],\n",
       "       [0.95375963, 0.04624037],\n",
       "       [0.7498349 , 0.2501651 ],\n",
       "       [0.90722058, 0.09277942],\n",
       "       [0.87444231, 0.12555769],\n",
       "       [0.90524492, 0.09475508],\n",
       "       [0.92602934, 0.07397066],\n",
       "       [0.78762272, 0.21237728],\n",
       "       [0.96938006, 0.03061994],\n",
       "       [0.48233923, 0.51766077],\n",
       "       [0.95305395, 0.04694605],\n",
       "       [0.7898978 , 0.2101022 ],\n",
       "       [0.88415145, 0.11584855],\n",
       "       [0.46802449, 0.53197551],\n",
       "       [0.2247255 , 0.7752745 ],\n",
       "       [0.90020512, 0.09979488],\n",
       "       [0.96344768, 0.03655232],\n",
       "       [0.8309591 , 0.1690409 ],\n",
       "       [0.89959166, 0.10040834],\n",
       "       [0.7948488 , 0.2051512 ],\n",
       "       [0.82006203, 0.17993797],\n",
       "       [0.95376778, 0.04623222],\n",
       "       [0.96917728, 0.03082272],\n",
       "       [0.49035987, 0.50964013],\n",
       "       [0.93561453, 0.06438547],\n",
       "       [0.48403981, 0.51596019],\n",
       "       [0.94436414, 0.05563586],\n",
       "       [0.96016967, 0.03983033],\n",
       "       [0.74376398, 0.25623602],\n",
       "       [0.95874868, 0.04125132],\n",
       "       [0.75536299, 0.24463701],\n",
       "       [0.8132664 , 0.1867336 ],\n",
       "       [0.94038758, 0.05961242],\n",
       "       [0.62670937, 0.37329063],\n",
       "       [0.83163199, 0.16836801],\n",
       "       [0.49492579, 0.50507421],\n",
       "       [0.90737426, 0.09262574],\n",
       "       [0.75410238, 0.24589762],\n",
       "       [0.80398742, 0.19601258],\n",
       "       [0.82676899, 0.17323101],\n",
       "       [0.84849952, 0.15150048],\n",
       "       [0.52811021, 0.47188979],\n",
       "       [0.96180149, 0.03819851],\n",
       "       [0.9314963 , 0.0685037 ],\n",
       "       [0.7498349 , 0.2501651 ],\n",
       "       [0.84589822, 0.15410178],\n",
       "       [0.90248736, 0.09751264],\n",
       "       [0.52520785, 0.47479215],\n",
       "       [0.71718407, 0.28281593],\n",
       "       [0.9198512 , 0.0801488 ],\n",
       "       [0.75787741, 0.24212259],\n",
       "       [0.86535939, 0.13464061],\n",
       "       [0.68603409, 0.31396591],\n",
       "       [0.26340395, 0.73659605],\n",
       "       [0.97290804, 0.02709196],\n",
       "       [0.88576522, 0.11423478],\n",
       "       [0.93407586, 0.06592414],\n",
       "       [0.75279657, 0.24720343],\n",
       "       [0.78141554, 0.21858446],\n",
       "       [0.61760459, 0.38239541],\n",
       "       [0.65677847, 0.34322153],\n",
       "       [0.6909808 , 0.3090192 ],\n",
       "       [0.73630627, 0.26369373],\n",
       "       [0.78068987, 0.21931013],\n",
       "       [0.54809957, 0.45190043],\n",
       "       [0.72732565, 0.27267435],\n",
       "       [0.70589885, 0.29410115],\n",
       "       [0.8069079 , 0.1930921 ],\n",
       "       [0.71628501, 0.28371499],\n",
       "       [0.7001976 , 0.2998024 ],\n",
       "       [0.68408337, 0.31591663],\n",
       "       [0.69046463, 0.30953537],\n",
       "       [0.61328114, 0.38671886],\n",
       "       [0.81463558, 0.18536442],\n",
       "       [0.73945033, 0.26054967],\n",
       "       [0.71583835, 0.28416165],\n",
       "       [0.64689208, 0.35310792],\n",
       "       [0.94039794, 0.05960206],\n",
       "       [0.94581012, 0.05418988],\n",
       "       [0.78648136, 0.21351864],\n",
       "       [0.83948792, 0.16051208],\n",
       "       [0.90387348, 0.09612652],\n",
       "       [0.71808141, 0.28191859],\n",
       "       [0.89407842, 0.10592158],\n",
       "       [0.87494793, 0.12505207],\n",
       "       [0.89472162, 0.10527838],\n",
       "       [0.86129012, 0.13870988],\n",
       "       [0.59509864, 0.40490136],\n",
       "       [0.86241065, 0.13758935],\n",
       "       [0.97057814, 0.02942186],\n",
       "       [0.86371699, 0.13628301],\n",
       "       [0.91425262, 0.08574738],\n",
       "       [0.78842419, 0.21157581],\n",
       "       [0.70681735, 0.29318265],\n",
       "       [0.90912863, 0.09087137],\n",
       "       [0.78953298, 0.21046702],\n",
       "       [0.71013656, 0.28986344],\n",
       "       [0.83486249, 0.16513751],\n",
       "       [0.84911526, 0.15088474],\n",
       "       [0.88806007, 0.11193993],\n",
       "       [0.96086941, 0.03913059],\n",
       "       [0.7743704 , 0.2256296 ],\n",
       "       [0.76124732, 0.23875268],\n",
       "       [0.81152542, 0.18847458],\n",
       "       [0.77834306, 0.22165694],\n",
       "       [0.94329887, 0.05670113],\n",
       "       [0.61275179, 0.38724821],\n",
       "       [0.7929438 , 0.2070562 ],\n",
       "       [0.94340639, 0.05659361],\n",
       "       [0.36226074, 0.63773926],\n",
       "       [0.60391486, 0.39608514],\n",
       "       [0.77588193, 0.22411807],\n",
       "       [0.86406631, 0.13593369],\n",
       "       [0.86907762, 0.13092238],\n",
       "       [0.76335691, 0.23664309],\n",
       "       [0.86666741, 0.13333259],\n",
       "       [0.91778671, 0.08221329],\n",
       "       [0.72321121, 0.27678879],\n",
       "       [0.33977364, 0.66022636],\n",
       "       [0.88968402, 0.11031598],\n",
       "       [0.83317403, 0.16682597],\n",
       "       [0.46347901, 0.53652099],\n",
       "       [0.59122877, 0.40877123],\n",
       "       [0.85913799, 0.14086201],\n",
       "       [0.73318089, 0.26681911],\n",
       "       [0.95593897, 0.04406103],\n",
       "       [0.834837  , 0.165163  ],\n",
       "       [0.95736145, 0.04263855],\n",
       "       [0.95937106, 0.04062894],\n",
       "       [0.90797881, 0.09202119],\n",
       "       [0.96077846, 0.03922154],\n",
       "       [0.78107168, 0.21892832],\n",
       "       [0.48233923, 0.51766077],\n",
       "       [0.87114218, 0.12885782],\n",
       "       [0.80512184, 0.19487816],\n",
       "       [0.80759692, 0.19240308],\n",
       "       [0.86129012, 0.13870988],\n",
       "       [0.87446261, 0.12553739],\n",
       "       [0.72272727, 0.27727273],\n",
       "       [0.93104638, 0.06895362],\n",
       "       [0.81527551, 0.18472449],\n",
       "       [0.96903917, 0.03096083],\n",
       "       [0.90225821, 0.09774179],\n",
       "       [0.90541737, 0.09458263],\n",
       "       [0.73802226, 0.26197774],\n",
       "       [0.86214566, 0.13785434],\n",
       "       [0.75580922, 0.24419078],\n",
       "       [0.95651053, 0.04348947],\n",
       "       [0.80828407, 0.19171593],\n",
       "       [0.9115519 , 0.0884481 ],\n",
       "       [0.86591743, 0.13408257],\n",
       "       [0.45335515, 0.54664485],\n",
       "       [0.2529096 , 0.7470904 ],\n",
       "       [0.62086768, 0.37913232],\n",
       "       [0.16038567, 0.83961433],\n",
       "       [0.66504887, 0.33495113],\n",
       "       [0.09804999, 0.90195001],\n",
       "       [0.17572702, 0.82427298],\n",
       "       [0.20085239, 0.79914761],\n",
       "       [0.81016704, 0.18983296],\n",
       "       [0.32317883, 0.67682117],\n",
       "       [0.0751408 , 0.9248592 ],\n",
       "       [0.47225809, 0.52774191],\n",
       "       [0.79297415, 0.20702585],\n",
       "       [0.69443368, 0.30556632],\n",
       "       [0.1188299 , 0.8811701 ],\n",
       "       [0.51507615, 0.48492385],\n",
       "       [0.59958138, 0.40041862],\n",
       "       [0.35813608, 0.64186392],\n",
       "       [0.0540182 , 0.9459818 ],\n",
       "       [0.5611391 , 0.4388609 ],\n",
       "       [0.60722047, 0.39277953],\n",
       "       [0.23554183, 0.76445817],\n",
       "       [0.14021377, 0.85978623],\n",
       "       [0.77952167, 0.22047833],\n",
       "       [0.78995915, 0.21004085],\n",
       "       [0.34760242, 0.65239758],\n",
       "       [0.08672024, 0.91327976],\n",
       "       [0.63265125, 0.36734875],\n",
       "       [0.54188097, 0.45811903],\n",
       "       [0.24432709, 0.75567291],\n",
       "       [0.8132664 , 0.1867336 ],\n",
       "       [0.4028495 , 0.5971505 ],\n",
       "       [0.37354182, 0.62645818],\n",
       "       [0.40121236, 0.59878764],\n",
       "       [0.47726898, 0.52273102],\n",
       "       [0.72732565, 0.27267435],\n",
       "       [0.63581884, 0.36418116],\n",
       "       [0.45052575, 0.54947425],\n",
       "       [0.08160281, 0.91839719],\n",
       "       [0.15393133, 0.84606867],\n",
       "       [0.74684315, 0.25315685],\n",
       "       [0.33738109, 0.66261891],\n",
       "       [0.1704975 , 0.8295025 ],\n",
       "       [0.61437466, 0.38562534],\n",
       "       [0.08726386, 0.91273614],\n",
       "       [0.82314782, 0.17685218],\n",
       "       [0.10387727, 0.89612273],\n",
       "       [0.73898453, 0.26101547],\n",
       "       [0.56109357, 0.43890643],\n",
       "       [0.75757592, 0.24242408],\n",
       "       [0.7944847 , 0.2055153 ],\n",
       "       [0.143813  , 0.856187  ],\n",
       "       [0.22143133, 0.77856867],\n",
       "       [0.63059054, 0.36940946],\n",
       "       [0.29199532, 0.70800468],\n",
       "       [0.61437466, 0.38562534],\n",
       "       [0.72732565, 0.27267435],\n",
       "       [0.18386214, 0.81613786],\n",
       "       [0.18726416, 0.81273584],\n",
       "       [0.68900728, 0.31099272],\n",
       "       [0.24985049, 0.75014951],\n",
       "       [0.11089698, 0.88910302],\n",
       "       [0.71767391, 0.28232609],\n",
       "       [0.36605949, 0.63394051],\n",
       "       [0.35390549, 0.64609451],\n",
       "       [0.61921162, 0.38078838],\n",
       "       [0.67859103, 0.32140897],\n",
       "       [0.12120733, 0.87879267],\n",
       "       [0.70497867, 0.29502133],\n",
       "       [0.20308296, 0.79691704],\n",
       "       [0.26001719, 0.73998281],\n",
       "       [0.45912321, 0.54087679],\n",
       "       [0.42843404, 0.57156596],\n",
       "       [0.6188243 , 0.3811757 ],\n",
       "       [0.30787443, 0.69212557],\n",
       "       [0.67959635, 0.32040365],\n",
       "       [0.36076621, 0.63923379],\n",
       "       [0.63273716, 0.36726284],\n",
       "       [0.68020268, 0.31979732],\n",
       "       [0.20168314, 0.79831686],\n",
       "       [0.77910611, 0.22089389],\n",
       "       [0.70209215, 0.29790785],\n",
       "       [0.73328937, 0.26671063],\n",
       "       [0.12440563, 0.87559437],\n",
       "       [0.54979431, 0.45020569],\n",
       "       [0.74118851, 0.25881149],\n",
       "       [0.13079462, 0.86920538],\n",
       "       [0.5740411 , 0.4259589 ],\n",
       "       [0.64845396, 0.35154604],\n",
       "       [0.25767724, 0.74232276],\n",
       "       [0.35445027, 0.64554973],\n",
       "       [0.57638581, 0.42361419],\n",
       "       [0.66034278, 0.33965722],\n",
       "       [0.79337054, 0.20662946],\n",
       "       [0.75073385, 0.24926615],\n",
       "       [0.59518772, 0.40481228],\n",
       "       [0.31221998, 0.68778002],\n",
       "       [0.4967206 , 0.5032794 ],\n",
       "       [0.2430996 , 0.7569004 ],\n",
       "       [0.51918144, 0.48081856],\n",
       "       [0.4727135 , 0.5272865 ],\n",
       "       [0.26699976, 0.73300024],\n",
       "       [0.64790295, 0.35209705],\n",
       "       [0.70548097, 0.29451903],\n",
       "       [0.71255801, 0.28744199],\n",
       "       [0.11736926, 0.88263074],\n",
       "       [0.24439536, 0.75560464],\n",
       "       [0.35961789, 0.64038211],\n",
       "       [0.78654343, 0.21345657],\n",
       "       [0.60893977, 0.39106023],\n",
       "       [0.49667438, 0.50332562],\n",
       "       [0.78654343, 0.21345657],\n",
       "       [0.11361838, 0.88638162],\n",
       "       [0.60563923, 0.39436077],\n",
       "       [0.63157848, 0.36842152],\n",
       "       [0.1936653 , 0.8063347 ],\n",
       "       [0.80618811, 0.19381189],\n",
       "       [0.78229692, 0.21770308],\n",
       "       [0.77031485, 0.22968515],\n",
       "       [0.0992642 , 0.9007358 ],\n",
       "       [0.32221097, 0.67778903],\n",
       "       [0.73898453, 0.26101547],\n",
       "       [0.74562356, 0.25437644],\n",
       "       [0.15427039, 0.84572961],\n",
       "       [0.68904689, 0.31095311],\n",
       "       [0.62029874, 0.37970126],\n",
       "       [0.57575902, 0.42424098],\n",
       "       [0.40502643, 0.59497357],\n",
       "       [0.27612466, 0.72387534],\n",
       "       [0.78613748, 0.21386252],\n",
       "       [0.20236723, 0.79763277],\n",
       "       [0.64689208, 0.35310792],\n",
       "       [0.681602  , 0.318398  ],\n",
       "       [0.39528296, 0.60471704],\n",
       "       [0.79412576, 0.20587424],\n",
       "       [0.05665096, 0.94334904],\n",
       "       [0.68256226, 0.31743774],\n",
       "       [0.76255604, 0.23744396],\n",
       "       [0.32560131, 0.67439869],\n",
       "       [0.20611595, 0.79388405],\n",
       "       [0.70589885, 0.29410115],\n",
       "       [0.7092623 , 0.2907377 ],\n",
       "       [0.64012338, 0.35987662],\n",
       "       [0.29241145, 0.70758855],\n",
       "       [0.67110456, 0.32889544],\n",
       "       [0.39088079, 0.60911921],\n",
       "       [0.17706742, 0.82293258],\n",
       "       [0.62459176, 0.37540824],\n",
       "       [0.73630627, 0.26369373],\n",
       "       [0.39462547, 0.60537453],\n",
       "       [0.67256523, 0.32743477],\n",
       "       [0.47326973, 0.52673027],\n",
       "       [0.76667403, 0.23332597],\n",
       "       [0.5344011 , 0.4655989 ],\n",
       "       [0.51401619, 0.48598381],\n",
       "       [0.38544682, 0.61455318],\n",
       "       [0.61437466, 0.38562534],\n",
       "       [0.64478174, 0.35521826],\n",
       "       [0.71255801, 0.28744199],\n",
       "       [0.22581723, 0.77418277],\n",
       "       [0.64016596, 0.35983404],\n",
       "       [0.64643235, 0.35356765],\n",
       "       [0.54869798, 0.45130202],\n",
       "       [0.38535924, 0.61464076],\n",
       "       [0.56127566, 0.43872434],\n",
       "       [0.45743256, 0.54256744],\n",
       "       [0.41619013, 0.58380987],\n",
       "       [0.67959635, 0.32040365],\n",
       "       [0.67220345, 0.32779655],\n",
       "       [0.42581984, 0.57418016],\n",
       "       [0.21566182, 0.78433818],\n",
       "       [0.64427841, 0.35572159],\n",
       "       [0.07547492, 0.92452508],\n",
       "       [0.63581884, 0.36418116],\n",
       "       [0.76425585, 0.23574415],\n",
       "       [0.50535121, 0.49464879],\n",
       "       [0.71305265, 0.28694735],\n",
       "       [0.51959141, 0.48040859],\n",
       "       [0.61991185, 0.38008815],\n",
       "       [0.65314669, 0.34685331],\n",
       "       [0.73458309, 0.26541691],\n",
       "       [0.16659288, 0.83340712],\n",
       "       [0.74604001, 0.25395999],\n",
       "       [0.57251082, 0.42748918],\n",
       "       [0.4140398 , 0.5859602 ],\n",
       "       [0.67919836, 0.32080164],\n",
       "       [0.66240908, 0.33759092],\n",
       "       [0.74428799, 0.25571201],\n",
       "       [0.71868243, 0.28131757],\n",
       "       [0.73458309, 0.26541691],\n",
       "       [0.7975111 , 0.2024889 ],\n",
       "       [0.7102507 , 0.2897493 ],\n",
       "       [0.45912321, 0.54087679],\n",
       "       [0.72688974, 0.27311026],\n",
       "       [0.71681332, 0.28318668],\n",
       "       [0.7425634 , 0.2574366 ],\n",
       "       [0.76756421, 0.23243579],\n",
       "       [0.87571127, 0.12428873],\n",
       "       [0.69689857, 0.30310143]])"
      ]
     },
     "execution_count": 98,
     "metadata": {},
     "output_type": "execute_result"
    }
   ],
   "source": [
    "clf.predict_proba(X)"
   ]
  },
  {
   "cell_type": "code",
   "execution_count": 99,
   "metadata": {},
   "outputs": [
    {
     "data": {
      "text/plain": [
       "0.4271246568521744"
      ]
     },
     "execution_count": 99,
     "metadata": {},
     "output_type": "execute_result"
    }
   ],
   "source": [
    "h = clf.predict_proba(X)[:, 1]\n",
    "-np.mean(y * np.log(h) + (1 - y) * np.log(1 - h))"
   ]
  },
  {
   "cell_type": "code",
   "execution_count": null,
   "metadata": {},
   "outputs": [],
   "source": []
  }
 ],
 "metadata": {
  "kernelspec": {
   "display_name": "Python 3",
   "language": "python",
   "name": "python3"
  },
  "language_info": {
   "codemirror_mode": {
    "name": "ipython",
    "version": 3
   },
   "file_extension": ".py",
   "mimetype": "text/x-python",
   "name": "python",
   "nbconvert_exporter": "python",
   "pygments_lexer": "ipython3",
   "version": "3.6.9"
  }
 },
 "nbformat": 4,
 "nbformat_minor": 2
}
